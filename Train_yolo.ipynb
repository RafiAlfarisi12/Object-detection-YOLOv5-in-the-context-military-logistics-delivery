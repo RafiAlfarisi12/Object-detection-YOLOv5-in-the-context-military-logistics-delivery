{
 "cells": [
  {
   "cell_type": "code",
   "execution_count": null,
   "metadata": {},
   "outputs": [],
   "source": [
    "import torch\n",
    "import utils\n",
    "display = utils.notebook_init()  # checks"
   ]
  },
  {
   "cell_type": "code",
   "execution_count": null,
   "metadata": {},
   "outputs": [],
   "source": [
    "!pip install roboflow\n",
    "\n",
    "from roboflow import Roboflow\n",
    "rf = Roboflow(api_key=\"GEDJgvHVj2EWdBTNtHDv\")\n",
    "project = rf.workspace(\"my-project-g12c4\").project(\"militerry-object\")\n",
    "dataset = project.version(5).download(\"yolov5\")\n"
   ]
  },
  {
   "cell_type": "code",
   "execution_count": null,
   "metadata": {},
   "outputs": [],
   "source": [
    "!python train.py --img 640 --epochs 500 --patience 50 --data \"D:/Data HDD/Data Kuliah Rafi Alfarisi/Semester 8/Tugas Akhir/Final/YOLOV5/dataset/data.yaml\" --weights yolov5s.pt --name \"imgs640-epoch500-lr0.001-patience50-new\" --hyp \"D:/Data HDD/Data Kuliah Rafi Alfarisi/Semester 8/Tugas Akhir/Final/YOLOV5/data/hyps/hyp.custom.yaml\"\n"
   ]
  },
  {
   "cell_type": "code",
   "execution_count": null,
   "metadata": {},
   "outputs": [],
   "source": [
    "!python train.py --img 640 --epochs 300 --data \"D:/Data HDD/Data Kuliah Rafi Alfarisi/Semester 8/Tugas Akhir/Revisi Juni/yolov5/dataset/data.yaml\" --weights yolov5s.pt --name \"imgs640-epoch300-lr0.001-new\" --hyp \"D:/Data HDD/Data Kuliah Rafi Alfarisi/Semester 8/Tugas Akhir/Revisi Juni/yolov5/data/hyps/hyp.custom.yaml\""
   ]
  },
  {
   "cell_type": "code",
   "execution_count": null,
   "metadata": {},
   "outputs": [],
   "source": [
    "!python train.py --img 640 --epochs 150 --data \"D:/Data HDD/Data Kuliah Rafi Alfarisi/Semester 8/Tugas Akhir/Revisi Juni/yolov5/dataset/data.yaml\" --weights yolov5s.pt --name \"imgs640-epoch150-lr0.001-new\" --hyp \"D:/Data HDD/Data Kuliah Rafi Alfarisi/Semester 8/Tugas Akhir/Revisi Juni/yolov5/data/hyps/hyp.custom.yaml\""
   ]
  },
  {
   "cell_type": "code",
   "execution_count": null,
   "metadata": {},
   "outputs": [],
   "source": [
    "!python train.py --img 640 --epochs 500 --patience 50 --data \"D:/Data HDD/Data Kuliah Rafi Alfarisi/Semester 8/Tugas Akhir/Final/YOLOV5/dataset/data.yaml\" --weights yolov5s.pt --name \"imgs640-epoch500-lr0.01-patience50\" --hyp \"D:/Data HDD/Data Kuliah Rafi Alfarisi/Semester 8/Tugas Akhir/Final/YOLOV5/data/hyps/hyp.custom2.yaml\"\n"
   ]
  },
  {
   "cell_type": "code",
   "execution_count": null,
   "metadata": {},
   "outputs": [],
   "source": [
    "!python train.py --img 640 --epochs 300 --data \"D:/Data HDD/Data Kuliah Rafi Alfarisi/Semester 8/Tugas Akhir/Final/YOLOV5/dataset/data.yaml\" --weights yolov5s.pt --name \"imgs640-epoch300-lr0.01\" --hyp \"D:/Data HDD/Data Kuliah Rafi Alfarisi/Semester 8/Tugas Akhir/Final/YOLOV5/data/hyps/hyp.custom2.yaml\"\n"
   ]
  },
  {
   "cell_type": "code",
   "execution_count": null,
   "metadata": {},
   "outputs": [],
   "source": [
    "!python train.py --img 640 --epochs 150 --data \"D:/Data HDD/Data Kuliah Rafi Alfarisi/Semester 8/Tugas Akhir/Final/YOLOV5/dataset/data.yaml\" --weights yolov5s.pt --name \"imgs640-epoch150-lr0.01\" --hyp \"D:/Data HDD/Data Kuliah Rafi Alfarisi/Semester 8/Tugas Akhir/Final/YOLOV5/data/hyps/hyp.custom2.yaml\"\n"
   ]
  },
  {
   "cell_type": "code",
   "execution_count": null,
   "metadata": {},
   "outputs": [],
   "source": [
    "!python train.py --img 640 --epochs 150 --data \"D:/Data HDD/Data Kuliah Rafi Alfarisi/Semester 8/Tugas Akhir/Final/YOLOV5/dataset/data.yaml\" --weights yolov5s.pt --name \"imgs640-epoch150-lr0.001-new\" --hyp \"D:/Data HDD/Data Kuliah Rafi Alfarisi/Semester 8/Tugas Akhir/Final/YOLOV5/data/hyps/hyp.custom.yaml\"\n"
   ]
  },
  {
   "cell_type": "code",
   "execution_count": null,
   "metadata": {},
   "outputs": [],
   "source": [
    "!python train.py --img 640 --epochs 300 --data \"D:/Data HDD/Data Kuliah Rafi Alfarisi/Semester 8/Tugas Akhir/Final/YOLOV5/dataset/data.yaml\" --weights yolov5s.pt --name \"imgs640-epoch300-lr0.001-new\" --hyp \"D:/Data HDD/Data Kuliah Rafi Alfarisi/Semester 8/Tugas Akhir/Final/YOLOV5/data/hyps/hyp.custom.yaml\"\n"
   ]
  },
  {
   "cell_type": "code",
   "execution_count": null,
   "metadata": {},
   "outputs": [],
   "source": [
    "!python train.py --img 640 --epochs 500 --patience 50 --data \"D:/Data HDD/Data Kuliah Rafi Alfarisi/Semester 8/Tugas Akhir/Final/YOLOV5/dataset/data.yaml\" --weights yolov5s.pt --name \"imgs640-epoch500-lr0.001-patience50-new\" --hyp \"D:/Data HDD/Data Kuliah Rafi Alfarisi/Semester 8/Tugas Akhir/Final/YOLOV5/data/hyps/hyp.custom.yaml\"\n"
   ]
  },
  {
   "cell_type": "code",
   "execution_count": null,
   "metadata": {},
   "outputs": [],
   "source": [
    "!python train.py --img 640 --epochs 150 --data \"D:/Data HDD/Data Kuliah Rafi Alfarisi/Semester 8/Tugas Akhir/Final/YOLOV5/dataset/data.yaml\" --weights yolov5s.pt --name \"imgs640-epoch150-lr0.01-new\" --hyp \"D:/Data HDD/Data Kuliah Rafi Alfarisi/Semester 8/Tugas Akhir/Final/YOLOV5/data/hyps/hyp.custom2.yaml\"\n"
   ]
  },
  {
   "cell_type": "code",
   "execution_count": null,
   "metadata": {},
   "outputs": [],
   "source": [
    "!python train.py --img 640 --epochs 300 --data \"D:/Data HDD/Data Kuliah Rafi Alfarisi/Semester 8/Tugas Akhir/Final/YOLOV5/dataset/data.yaml\" --weights yolov5s.pt --name \"imgs640-epoch300-lr0.01-new\" --hyp \"D:/Data HDD/Data Kuliah Rafi Alfarisi/Semester 8/Tugas Akhir/Final/YOLOV5/data/hyps/hyp.custom2.yaml\"\n"
   ]
  },
  {
   "cell_type": "code",
   "execution_count": null,
   "metadata": {},
   "outputs": [],
   "source": [
    "!python train.py --img 640 --epochs 500 --patience 50 --data \"D:/Data HDD/Data Kuliah Rafi Alfarisi/Semester 8/Tugas Akhir/Final/YOLOV5/dataset/data.yaml\" --weights yolov5s.pt --name \"imgs640-epoch500-lr0.01-patience50-new\" --hyp \"D:/Data HDD/Data Kuliah Rafi Alfarisi/Semester 8/Tugas Akhir/Final/YOLOV5/data/hyps/hyp.custom2.yaml\"\n"
   ]
  },
  {
   "cell_type": "code",
   "execution_count": 1,
   "metadata": {},
   "outputs": [],
   "source": [
    "!python detect.py --weights \"D:/Data HDD/Data Kuliah Rafi Alfarisi/Semester 8/Tugas Akhir/Final/YOLOV5/runs/train/imgs640-epoch500-lr0.01-patience50-new/weights/best.pt\" --source=0"
   ]
  }
 ],
 "metadata": {
  "kernelspec": {
   "display_name": "TFgpu",
   "language": "python",
   "name": "python3"
  },
  "language_info": {
   "codemirror_mode": {
    "name": "ipython",
    "version": 3
   },
   "file_extension": ".py",
   "mimetype": "text/x-python",
   "name": "python",
   "nbconvert_exporter": "python",
   "pygments_lexer": "ipython3",
   "version": "3.11.5"
  }
 },
 "nbformat": 4,
 "nbformat_minor": 2
}
