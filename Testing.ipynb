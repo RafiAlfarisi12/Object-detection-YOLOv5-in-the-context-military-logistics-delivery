{
 "cells": [
  {
   "cell_type": "markdown",
   "metadata": {},
   "source": [
    "Testing Picture"
   ]
  },
  {
   "cell_type": "code",
   "execution_count": 1,
   "metadata": {},
   "outputs": [
    {
     "name": "stderr",
     "output_type": "stream",
     "text": [
      "\u001b[34m\u001b[1mdetect: \u001b[0mweights=['D:/Data HDD/Data Kuliah Rafi Alfarisi/Semester 8/Tugas Akhir/Final/YOLOV5/runs/train/imgs640-epoch500-lr0.001-patience50-new/weights/best.pt'], source=D:/Data HDD/Data Kuliah Rafi Alfarisi/Semester 8/Tugas Akhir/Final/YOLOV5/Testing/tank2.png, data=data\\coco128.yaml, imgsz=[640, 640], conf_thres=0.25, iou_thres=0.45, max_det=1000, device=, view_img=False, save_txt=False, save_csv=False, save_conf=False, save_crop=False, nosave=False, classes=None, agnostic_nms=False, augment=False, visualize=False, update=False, project=D:/Data HDD/Data Kuliah Rafi Alfarisi/Semester 8/Tugas Akhir/Final/YOLOV5/hasil, name=exp, exist_ok=False, line_thickness=3, hide_labels=False, hide_conf=False, half=False, dnn=False, vid_stride=1\n",
      "fatal: cannot change to 'D:\\Data': No such file or directory\n",
      "YOLOv5  2024-1-5 Python-3.11.5 torch-2.0.0+cu118 CUDA:0 (NVIDIA GeForce RTX 2060, 6144MiB)\n",
      "\n",
      "Fusing layers... \n",
      "Model summary: 157 layers, 7042489 parameters, 0 gradients, 15.9 GFLOPs\n",
      "image 1/1 D:\\Data HDD\\Data Kuliah Rafi Alfarisi\\Semester 8\\Tugas Akhir\\Final\\YOLOV5\\Testing\\tank2.png: 416x640 1 Tank, 56.1ms\n",
      "Speed: 1.0ms pre-process, 56.1ms inference, 65.6ms NMS per image at shape (1, 3, 640, 640)\n",
      "Results saved to \u001b[1mD:\\Data HDD\\Data Kuliah Rafi Alfarisi\\Semester 8\\Tugas Akhir\\Final\\YOLOV5\\hasil\\exp7\u001b[0m\n"
     ]
    }
   ],
   "source": [
    "!python detect.py --weights \"D:/Data HDD/Data Kuliah Rafi Alfarisi/Semester 8/Tugas Akhir/Final/YOLOV5/runs/train/imgs640-epoch500-lr0.001-patience50-new/weights/best.pt\" --source \"D:/Data HDD/Data Kuliah Rafi Alfarisi/Semester 8/Tugas Akhir/Final/YOLOV5/Testing/tank2.png\" --project \"D:/Data HDD/Data Kuliah Rafi Alfarisi/Semester 8/Tugas Akhir/Final/YOLOV5/hasil\""
   ]
  },
  {
   "cell_type": "markdown",
   "metadata": {},
   "source": [
    "Testing Video"
   ]
  },
  {
   "cell_type": "code",
   "execution_count": null,
   "metadata": {},
   "outputs": [],
   "source": [
    "!python detect.py --weights \"D:/Data HDD/Data Kuliah Rafi Alfarisi/Semester 8/Tugas Akhir/Final/YOLOV5/runs/train/imgs640-epoch500-lr0.001-patience50-new/weights/best.pt\" --source 0 --project \"D:/Data HDD/Data Kuliah Rafi Alfarisi/Semester 8/Tugas Akhir/Final/YOLOV5/hasil\""
   ]
  },
  {
   "cell_type": "markdown",
   "metadata": {},
   "source": [
    "Testing Camera"
   ]
  },
  {
   "cell_type": "code",
   "execution_count": 3,
   "metadata": {},
   "outputs": [
    {
     "name": "stdout",
     "output_type": "stream",
     "text": [
      "^C\n"
     ]
    }
   ],
   "source": [
    "!python detect.py --weights \"D:/Data HDD/Data Kuliah Rafi Alfarisi/Semester 8/Tugas Akhir/Final/YOLOV5/runs/train/imgs640-epoch500-lr0.001-patience50-new/weights/best.pt\" --source 0 --project \"D:/Data HDD/Data Kuliah Rafi Alfarisi/Semester 8/Tugas Akhir/Final/YOLOV5/hasil\"\n"
   ]
  }
 ],
 "metadata": {
  "kernelspec": {
   "display_name": "TFgpu",
   "language": "python",
   "name": "python3"
  },
  "language_info": {
   "codemirror_mode": {
    "name": "ipython",
    "version": 3
   },
   "file_extension": ".py",
   "mimetype": "text/x-python",
   "name": "python",
   "nbconvert_exporter": "python",
   "pygments_lexer": "ipython3",
   "version": "3.11.5"
  }
 },
 "nbformat": 4,
 "nbformat_minor": 2
}
